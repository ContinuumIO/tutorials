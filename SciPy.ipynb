{
 "metadata": {
  "name": "SciPy"
 },
 "nbformat": 3,
 "nbformat_minor": 0,
 "worksheets": [
  {
   "cells": [
    {
     "cell_type": "code",
     "collapsed": false,
     "input": [
      "import numpy as np\n",
      "import scipy as sp"
     ],
     "language": "python",
     "metadata": {},
     "outputs": [],
     "prompt_number": 1
    },
    {
     "cell_type": "code",
     "collapsed": false,
     "input": [
      "import scipy.stats as spstats\n",
      "import scipy.optimize as spopt\n",
      "import scipy.linalg as splinalg\n",
      "import scipy.ndimage as spndimage\n",
      "import scipy.sparse as spsparse\n",
      "import scipy.interpolate as spinterp\n",
      "import scipy.special as spspecial\n",
      "import scipy.integrate as spinteg\n",
      "import scipy.spatial as spspatial\n",
      "import scipy.signal as spsignal\n",
      "import scipy.odr as spodr\n",
      "import scipy.fftpack as spfft\n",
      "import scipy.cluster as spcluster\n",
      "import scipy.io as spio\n",
      "import scipy.constants as spconst\n",
      "import scipy.misc as spmisc\n",
      "import scipy.lib as splib"
     ],
     "language": "python",
     "metadata": {},
     "outputs": [],
     "prompt_number": 2
    },
    {
     "cell_type": "code",
     "collapsed": false,
     "input": [
      "frozen=spstats.burr(0.5, 1.0, loc=-10, scale=10)\n",
      "%pylab inline"
     ],
     "language": "python",
     "metadata": {},
     "outputs": [
      {
       "output_type": "stream",
       "stream": "stdout",
       "text": [
        "\n",
        "Welcome to pylab, a matplotlib-based Python environment [backend: module://IPython.zmq.pylab.backend_inline].\n",
        "For more information, type 'help(pylab)'.\n"
       ]
      }
     ],
     "prompt_number": 3
    },
    {
     "cell_type": "code",
     "collapsed": false,
     "input": [
      "x = np.linspace(-20, 10)\n",
      "plot(x, frozen.pdf(x))"
     ],
     "language": "python",
     "metadata": {},
     "outputs": [
      {
       "output_type": "pyout",
       "prompt_number": 4,
       "text": [
        "[<matplotlib.lines.Line2D at 0x107455d90>]"
       ]
      },
      {
       "output_type": "display_data",
       "png": "[encoded data removed]"
      }
     ],
     "prompt_number": 4
    },
    {
     "cell_type": "code",
     "collapsed": false,
     "input": [
      "hist(frozen.rvs(size=1000), bins=50, range=(-15, 10))"
     ],
     "language": "python",
     "metadata": {},
     "outputs": [
      {
       "output_type": "pyout",
       "prompt_number": 6,
       "text": [
        "(array([  0,   0,   0,   0,   0,   0,   0,   0,   0,   0, 193,  60,  38,\n",
        "        25,  24,  24,  21,  16,  11,  17,  18,  10,  14,   4,   8,   8,\n",
        "        10,   9,   2,   8,   8,   9,   4,   2,   4,   5,   7,   5,   3,\n",
        "         4,   1,   0,   4,   3,   4,   8,   4,   4,   3,   4]),\n",
        " array([-15. , -14.5, -14. , -13.5, -13. , -12.5, -12. , -11.5, -11. ,\n",
        "       -10.5, -10. ,  -9.5,  -9. ,  -8.5,  -8. ,  -7.5,  -7. ,  -6.5,\n",
        "        -6. ,  -5.5,  -5. ,  -4.5,  -4. ,  -3.5,  -3. ,  -2.5,  -2. ,\n",
        "        -1.5,  -1. ,  -0.5,   0. ,   0.5,   1. ,   1.5,   2. ,   2.5,\n",
        "         3. ,   3.5,   4. ,   4.5,   5. ,   5.5,   6. ,   6.5,   7. ,\n",
        "         7.5,   8. ,   8.5,   9. ,   9.5,  10. ]),\n",
        " <a list of 50 Patch objects>)"
       ]
      },
      {
       "output_type": "display_data",
       "png": "[encoded data removed]"
      }
     ],
     "prompt_number": 6
    },
    {
     "cell_type": "code",
     "collapsed": false,
     "input": [],
     "language": "python",
     "metadata": {},
     "outputs": []
    }
   ],
   "metadata": {}
  }
 ]
}